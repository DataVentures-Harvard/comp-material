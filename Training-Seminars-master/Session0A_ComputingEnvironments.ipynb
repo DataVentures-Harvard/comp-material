{
 "metadata": {
  "name": "",
  "signature": "sha256:d81a402423e8ccc56cd1263d1a2437e26d051a2822b290a37b388e26041e127f"
 },
 "nbformat": 3,
 "nbformat_minor": 0,
 "worksheets": [
  {
   "cells": [
    {
     "cell_type": "heading",
     "level": 1,
     "metadata": {},
     "source": [
      "<font color=\"#900000\">Welcome to the Data Ventures Comp</font>"
     ]
    },
    {
     "cell_type": "heading",
     "level": 4,
     "metadata": {},
     "source": [
      "Data Ventures Global | Spring 2015 | Session 0A: Introduction, Setup, Computing Environments, and Data Science Overview\n",
      "\n"
     ]
    },
    {
     "cell_type": "markdown",
     "metadata": {},
     "source": [
      "<center>\n",
      "<img style=\"width:800px\" src=\"http://i.kinja-img.com/gawker-media/image/upload/s--xNa7N_Ju--/lvzm0afp8kik5dctxiya.jpg\" alt=\"Big Data\">\n",
      "</center>"
     ]
    },
    {
     "cell_type": "heading",
     "level": 3,
     "metadata": {},
     "source": [
      "<font color=\"000099\">Introduction</font>"
     ]
    },
    {
     "cell_type": "markdown",
     "metadata": {},
     "source": [
      "**Greetings!** Welcome to the introductory `iPython Notebook` session of the Harvard College chapter of the intercollegiate `Data Ventures`. We are very pleased that you will be joining us in learning about powerful analytical tools that can help you draw more insight from your research at Harvard and beyond. In this session, we will be giving the rundown of three primary statistical and scientific computing platforms popular for large-scale data analysis and computation: iPython Notebook, RStudio, Octave/Matlab, and Julia. Our environment of choice for its ease of use and excellent readability is the iPython notebook. Python is also the more commonly known language - often the first programming language picked up - whereas R tends to attract statisticians, Matlab tends to attract those from the natural sciences, and Julia tends to be less widely used. We encourage students to pick up the basics of Python from our optional `Session 0B` (there will also be a `Session 0C`, also optional, covering the absolutely probability and linear algebra rudiments). Students should be familiar with basic coding, e.g. loops and conditionals, but more advanced development skills are not necessary as we will make heavy use of scientific, statistical, and machine learning libraries and packages in all languages used. Programming support throughout the period of your comp will be provided *mostly* for Python and comp sessions will go through explicit code and computational techniques for the underlying math driving all our analysis. However, we encourage work in other environments as well, and some support may be given for and some comp sessions will also be offered in R and Octave/Matlab. "
     ]
    },
    {
     "cell_type": "markdown",
     "metadata": {},
     "source": [
      "At $Data$ $Ventures$, we believe it is important not only to know how to code but to understand the underlying math behind every computation. Comp submissions should ideally provide not only correct numerical solutions but also sound, logical reasoning for all steps taken, where appropriate. This will become invaluable in our chapter's work on Kaggle datasets and our not-for-profit analysis for faculty projects and other solicited assignments. A lot of real data science is acocomplished as parts of data science teams, all work submitted must be done in groups (number of partners to be decided, with a current estimated ballpark of three partners to a group). We estimate a total of 5-6 lectures and 4-6 in-session assignments in groups of 3-6. As outlined in the introductory meeting, up to three sessions (lecture or hands-on) may be missed without excuse, but all assignments must be submitted as part of a team in order to join `Data Ventures` as a project developer or analyst (only two meetings may be missed without excuse for prospective board members). Assignments will vary in length, depending on the current topic being covered in the curriculum, and will be reviewed in the hands-on sessions following each corresponding lecture in the comp."
     ]
    },
    {
     "cell_type": "markdown",
     "metadata": {},
     "source": [
      "If you are more computationally seasoned, you can bypass the comp by demonstrating some analytical ability, either through a past project or otherwise. Once elected to the group, either by comp or by petition, you can work in any of three operations, including collaborative ventures with students currently in the MIT or Columbia chapters of Data Ventures. Understand that you should be prepared to work virtually with your team members in this case. Opportunities to meet up with our Data Ventures neighbors next door will happen at the next MIT Hackathon, in J-term (MIT's Independent Activities Period, IAP), and at local data conferences currently in the works. More details to come."
     ]
    },
    {
     "cell_type": "heading",
     "level": 3,
     "metadata": {},
     "source": [
      "<font color=\"000099\">Rundown of Computing Environments"
     ]
    },
    {
     "cell_type": "markdown",
     "metadata": {},
     "source": [
      "**iPython Notebook**. This will be our environment of choice. "
     ]
    },
    {
     "cell_type": "markdown",
     "metadata": {},
     "source": [
      "**RStudio**. Some support will be provided to R coders. R is not exactly ideal for big data as data in R must be stored in physical memory. "
     ]
    },
    {
     "cell_type": "markdown",
     "metadata": {},
     "source": [
      "**Matlab/Octave**. Similar programming languages, the latter freely distributed. "
     ]
    },
    {
     "cell_type": "heading",
     "level": 3,
     "metadata": {},
     "source": [
      "<font color=\"000099\">Overview of Statistics and Machine Learning</font>"
     ]
    },
    {
     "cell_type": "heading",
     "level": 4,
     "metadata": {},
     "source": [
      "<font color=\"green\">|| \u201cIt\u2019s a revolution.\u201d -- Gary King, Director of the Institute for Quantitative Social Science (IQSS) at Harvard University</font>"
     ]
    },
    {
     "cell_type": "markdown",
     "metadata": {},
     "source": [
      "<b>\"Welcome to the age of big data\"</b> (The New York Times, February 2012). We have long been in a new age of information, one that is revolutionizing advancements in medicine, finance, technology, intergalactic exploration, and so much more. For every field there is a computational counterpart: e.g. computational chemistry, computational neuroscience, etc. Even your experience on Facebook, from your ability to find new friends and tag current ones, relies heavily on statistical and machine learning algorithms, the prototypes of which you will see in the weeks ahead. "
     ]
    },
    {
     "cell_type": "markdown",
     "metadata": {},
     "source": [
      "Machine learning is a subset of artificial intelligence, which is the dually theoretical and applied domain of computer science in which tasks typically performed under human intelligence, e.g. decision-making and speech recognition, are developed in and performed by computer systems. In machine learning, the tasks specifically focus on dealing with and learning from large-scale data, and naturally overlaps heavily with statistics and mathematical computation. Machine learning has its own prominent subfields such as in natural languages processing and recommender systems, both of which we will touch upon in your journey through Data Ventures. "
     ]
    },
    {
     "cell_type": "markdown",
     "metadata": {},
     "source": [
      "**Supervised Learning**. Supervised learning, the more common subdomain in machine learning, relies on the premise of training and test datasets. Given training data, algorithms are 'trained' to infer a function, which is use to predict answers for untrained examples in the test set. In supervised learning, the \"right answers\" are already there and so we can easily measure performance of our learning algorithms. A common example includes regressions. "
     ]
    },
    {
     "cell_type": "markdown",
     "metadata": {},
     "source": [
      "**Unsupervised Learning**. In unsupervised learning, we do not already have the right answers and we try to automatically infer structure in the data. A common and relatively simple algorithm is <i>k</i>-means clustering. "
     ]
    },
    {
     "cell_type": "markdown",
     "metadata": {},
     "source": [
      "**... And More!** There are semi-supervised algorithms as well, and parts of the this broad umbrella of Data Science that does not lie strictly within AI. We will cover additional material such as optimization techniques (applied math) and time permitting, experimental design (statistics). Broadly, your comp experience in Data Ventures and crash course and primer material for the exciting stuff you will encounter in Stat 111, Stat 121, Stat 183, Stat 186, AM 121, CS 109, CS 181, Stat 220, CS 205, and in data-crunching experiences outside Harvard. "
     ]
    },
    {
     "cell_type": "heading",
     "level": 3,
     "metadata": {},
     "source": [
      "<font color=\"000099\">Coming Up</font>"
     ]
    },
    {
     "cell_type": "markdown",
     "metadata": {},
     "source": [
      "**Session OB: Python Review (Optional).** Aidi will discuss basic Pythonic coding and will specifically talk about specific data-oriented uses of Python through the numerous and growing mass of libraries and documentation available online. If you are unable to attend this session, the iPython Notebook will still be posted online for your own reference. "
     ]
    },
    {
     "cell_type": "markdown",
     "metadata": {},
     "source": [
      "**Session OC: Probability and Linear Algebra Brushup (Optional).** Yuan and Joseph will discuss the absolute basics of statistics (probability distributions, covariance, etc) and the matrix concepts behind in multi-dimensional data. If you are unable to attend this session, the iPython Notebook will still be posted online for your own reference. "
     ]
    },
    {
     "cell_type": "heading",
     "level": 3,
     "metadata": {},
     "source": [
      "Questions?"
     ]
    },
    {
     "cell_type": "markdown",
     "metadata": {},
     "source": [
      "--> Get in touch! "
     ]
    },
    {
     "cell_type": "heading",
     "level": 4,
     "metadata": {},
     "source": [
      "<center><font face='Garamond'>\u00a9 Data Ventures Global</font></center>"
     ]
    }
   ],
   "metadata": {}
  }
 ]
}